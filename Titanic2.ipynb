{
 "cells": [
  {
   "cell_type": "code",
   "execution_count": 1,
   "metadata": {},
   "outputs": [],
   "source": [
    "import pandas as pd\n",
    "import seaborn as sns\n",
    "import matplotlib.pyplot as plt\n",
    "import warnings\n",
    "warnings.filterwarnings('ignore')"
   ]
  },
  {
   "cell_type": "code",
   "execution_count": 2,
   "metadata": {},
   "outputs": [],
   "source": [
    "df_train = pd.read_csv('train.csv')\n",
    "df_test = pd.read_csv('test.csv')"
   ]
  },
  {
   "cell_type": "code",
   "execution_count": 3,
   "metadata": {},
   "outputs": [
    {
     "data": {
      "text/html": [
       "<div>\n",
       "<style scoped>\n",
       "    .dataframe tbody tr th:only-of-type {\n",
       "        vertical-align: middle;\n",
       "    }\n",
       "\n",
       "    .dataframe tbody tr th {\n",
       "        vertical-align: top;\n",
       "    }\n",
       "\n",
       "    .dataframe thead th {\n",
       "        text-align: right;\n",
       "    }\n",
       "</style>\n",
       "<table border=\"1\" class=\"dataframe\">\n",
       "  <thead>\n",
       "    <tr style=\"text-align: right;\">\n",
       "      <th></th>\n",
       "      <th>PassengerId</th>\n",
       "      <th>Survived</th>\n",
       "      <th>Pclass</th>\n",
       "      <th>Name</th>\n",
       "      <th>Sex</th>\n",
       "      <th>Age</th>\n",
       "      <th>SibSp</th>\n",
       "      <th>Parch</th>\n",
       "      <th>Ticket</th>\n",
       "      <th>Fare</th>\n",
       "      <th>Cabin</th>\n",
       "      <th>Embarked</th>\n",
       "    </tr>\n",
       "  </thead>\n",
       "  <tbody>\n",
       "    <tr>\n",
       "      <th>0</th>\n",
       "      <td>1</td>\n",
       "      <td>0</td>\n",
       "      <td>3</td>\n",
       "      <td>Braund, Mr. Owen Harris</td>\n",
       "      <td>male</td>\n",
       "      <td>22.0</td>\n",
       "      <td>1</td>\n",
       "      <td>0</td>\n",
       "      <td>A/5 21171</td>\n",
       "      <td>7.2500</td>\n",
       "      <td>NaN</td>\n",
       "      <td>S</td>\n",
       "    </tr>\n",
       "    <tr>\n",
       "      <th>1</th>\n",
       "      <td>2</td>\n",
       "      <td>1</td>\n",
       "      <td>1</td>\n",
       "      <td>Cumings, Mrs. John Bradley (Florence Briggs Th...</td>\n",
       "      <td>female</td>\n",
       "      <td>38.0</td>\n",
       "      <td>1</td>\n",
       "      <td>0</td>\n",
       "      <td>PC 17599</td>\n",
       "      <td>71.2833</td>\n",
       "      <td>C85</td>\n",
       "      <td>C</td>\n",
       "    </tr>\n",
       "    <tr>\n",
       "      <th>2</th>\n",
       "      <td>3</td>\n",
       "      <td>1</td>\n",
       "      <td>3</td>\n",
       "      <td>Heikkinen, Miss. Laina</td>\n",
       "      <td>female</td>\n",
       "      <td>26.0</td>\n",
       "      <td>0</td>\n",
       "      <td>0</td>\n",
       "      <td>STON/O2. 3101282</td>\n",
       "      <td>7.9250</td>\n",
       "      <td>NaN</td>\n",
       "      <td>S</td>\n",
       "    </tr>\n",
       "    <tr>\n",
       "      <th>3</th>\n",
       "      <td>4</td>\n",
       "      <td>1</td>\n",
       "      <td>1</td>\n",
       "      <td>Futrelle, Mrs. Jacques Heath (Lily May Peel)</td>\n",
       "      <td>female</td>\n",
       "      <td>35.0</td>\n",
       "      <td>1</td>\n",
       "      <td>0</td>\n",
       "      <td>113803</td>\n",
       "      <td>53.1000</td>\n",
       "      <td>C123</td>\n",
       "      <td>S</td>\n",
       "    </tr>\n",
       "    <tr>\n",
       "      <th>4</th>\n",
       "      <td>5</td>\n",
       "      <td>0</td>\n",
       "      <td>3</td>\n",
       "      <td>Allen, Mr. William Henry</td>\n",
       "      <td>male</td>\n",
       "      <td>35.0</td>\n",
       "      <td>0</td>\n",
       "      <td>0</td>\n",
       "      <td>373450</td>\n",
       "      <td>8.0500</td>\n",
       "      <td>NaN</td>\n",
       "      <td>S</td>\n",
       "    </tr>\n",
       "    <tr>\n",
       "      <th>5</th>\n",
       "      <td>6</td>\n",
       "      <td>0</td>\n",
       "      <td>3</td>\n",
       "      <td>Moran, Mr. James</td>\n",
       "      <td>male</td>\n",
       "      <td>NaN</td>\n",
       "      <td>0</td>\n",
       "      <td>0</td>\n",
       "      <td>330877</td>\n",
       "      <td>8.4583</td>\n",
       "      <td>NaN</td>\n",
       "      <td>Q</td>\n",
       "    </tr>\n",
       "    <tr>\n",
       "      <th>6</th>\n",
       "      <td>7</td>\n",
       "      <td>0</td>\n",
       "      <td>1</td>\n",
       "      <td>McCarthy, Mr. Timothy J</td>\n",
       "      <td>male</td>\n",
       "      <td>54.0</td>\n",
       "      <td>0</td>\n",
       "      <td>0</td>\n",
       "      <td>17463</td>\n",
       "      <td>51.8625</td>\n",
       "      <td>E46</td>\n",
       "      <td>S</td>\n",
       "    </tr>\n",
       "    <tr>\n",
       "      <th>7</th>\n",
       "      <td>8</td>\n",
       "      <td>0</td>\n",
       "      <td>3</td>\n",
       "      <td>Palsson, Master. Gosta Leonard</td>\n",
       "      <td>male</td>\n",
       "      <td>2.0</td>\n",
       "      <td>3</td>\n",
       "      <td>1</td>\n",
       "      <td>349909</td>\n",
       "      <td>21.0750</td>\n",
       "      <td>NaN</td>\n",
       "      <td>S</td>\n",
       "    </tr>\n",
       "    <tr>\n",
       "      <th>8</th>\n",
       "      <td>9</td>\n",
       "      <td>1</td>\n",
       "      <td>3</td>\n",
       "      <td>Johnson, Mrs. Oscar W (Elisabeth Vilhelmina Berg)</td>\n",
       "      <td>female</td>\n",
       "      <td>27.0</td>\n",
       "      <td>0</td>\n",
       "      <td>2</td>\n",
       "      <td>347742</td>\n",
       "      <td>11.1333</td>\n",
       "      <td>NaN</td>\n",
       "      <td>S</td>\n",
       "    </tr>\n",
       "    <tr>\n",
       "      <th>9</th>\n",
       "      <td>10</td>\n",
       "      <td>1</td>\n",
       "      <td>2</td>\n",
       "      <td>Nasser, Mrs. Nicholas (Adele Achem)</td>\n",
       "      <td>female</td>\n",
       "      <td>14.0</td>\n",
       "      <td>1</td>\n",
       "      <td>0</td>\n",
       "      <td>237736</td>\n",
       "      <td>30.0708</td>\n",
       "      <td>NaN</td>\n",
       "      <td>C</td>\n",
       "    </tr>\n",
       "  </tbody>\n",
       "</table>\n",
       "</div>"
      ],
      "text/plain": [
       "   PassengerId  Survived  Pclass  \\\n",
       "0            1         0       3   \n",
       "1            2         1       1   \n",
       "2            3         1       3   \n",
       "3            4         1       1   \n",
       "4            5         0       3   \n",
       "5            6         0       3   \n",
       "6            7         0       1   \n",
       "7            8         0       3   \n",
       "8            9         1       3   \n",
       "9           10         1       2   \n",
       "\n",
       "                                                Name     Sex   Age  SibSp  \\\n",
       "0                            Braund, Mr. Owen Harris    male  22.0      1   \n",
       "1  Cumings, Mrs. John Bradley (Florence Briggs Th...  female  38.0      1   \n",
       "2                             Heikkinen, Miss. Laina  female  26.0      0   \n",
       "3       Futrelle, Mrs. Jacques Heath (Lily May Peel)  female  35.0      1   \n",
       "4                           Allen, Mr. William Henry    male  35.0      0   \n",
       "5                                   Moran, Mr. James    male   NaN      0   \n",
       "6                            McCarthy, Mr. Timothy J    male  54.0      0   \n",
       "7                     Palsson, Master. Gosta Leonard    male   2.0      3   \n",
       "8  Johnson, Mrs. Oscar W (Elisabeth Vilhelmina Berg)  female  27.0      0   \n",
       "9                Nasser, Mrs. Nicholas (Adele Achem)  female  14.0      1   \n",
       "\n",
       "   Parch            Ticket     Fare Cabin Embarked  \n",
       "0      0         A/5 21171   7.2500   NaN        S  \n",
       "1      0          PC 17599  71.2833   C85        C  \n",
       "2      0  STON/O2. 3101282   7.9250   NaN        S  \n",
       "3      0            113803  53.1000  C123        S  \n",
       "4      0            373450   8.0500   NaN        S  \n",
       "5      0            330877   8.4583   NaN        Q  \n",
       "6      0             17463  51.8625   E46        S  \n",
       "7      1            349909  21.0750   NaN        S  \n",
       "8      2            347742  11.1333   NaN        S  \n",
       "9      0            237736  30.0708   NaN        C  "
      ]
     },
     "execution_count": 3,
     "metadata": {},
     "output_type": "execute_result"
    }
   ],
   "source": [
    "df_train.head(10)"
   ]
  },
  {
   "cell_type": "code",
   "execution_count": 4,
   "metadata": {},
   "outputs": [
    {
     "data": {
      "text/plain": [
       "PassengerId      0\n",
       "Survived         0\n",
       "Pclass           0\n",
       "Name             0\n",
       "Sex              0\n",
       "Age            177\n",
       "SibSp            0\n",
       "Parch            0\n",
       "Ticket           0\n",
       "Fare             0\n",
       "Cabin          687\n",
       "Embarked         2\n",
       "dtype: int64"
      ]
     },
     "execution_count": 4,
     "metadata": {},
     "output_type": "execute_result"
    }
   ],
   "source": [
    "df_train.isnull().sum()"
   ]
  },
  {
   "cell_type": "code",
   "execution_count": 5,
   "metadata": {},
   "outputs": [
    {
     "data": {
      "text/plain": [
       "PassengerId      0\n",
       "Pclass           0\n",
       "Name             0\n",
       "Sex              0\n",
       "Age             86\n",
       "SibSp            0\n",
       "Parch            0\n",
       "Ticket           0\n",
       "Fare             1\n",
       "Cabin          327\n",
       "Embarked         0\n",
       "dtype: int64"
      ]
     },
     "execution_count": 5,
     "metadata": {},
     "output_type": "execute_result"
    }
   ],
   "source": [
    "df_test.isnull().sum()"
   ]
  },
  {
   "cell_type": "code",
   "execution_count": 6,
   "metadata": {},
   "outputs": [],
   "source": [
    "# Data cleaning\n",
    "data_cleaner = [df_train, df_test]\n",
    "drop = ['PassengerId', 'Ticket', 'Cabin']\n",
    "\n",
    "for data in data_cleaner:\n",
    "    # Fill NA \n",
    "    data['Age'].fillna(data['Age'].median(), inplace=True)\n",
    "    data['Embarked'].fillna(data['Embarked'].mode()[0], inplace=True)\n",
    "    data['Fare'].fillna(data['Fare'].median(), inplace=True)\n",
    "    \n",
    "    # Drop Columns\n",
    "    data.drop(drop, axis=1, inplace=True)"
   ]
  },
  {
   "cell_type": "code",
   "execution_count": 7,
   "metadata": {},
   "outputs": [
    {
     "data": {
      "text/plain": [
       "Survived    0\n",
       "Pclass      0\n",
       "Name        0\n",
       "Sex         0\n",
       "Age         0\n",
       "SibSp       0\n",
       "Parch       0\n",
       "Fare        0\n",
       "Embarked    0\n",
       "dtype: int64"
      ]
     },
     "execution_count": 7,
     "metadata": {},
     "output_type": "execute_result"
    }
   ],
   "source": [
    "df_train.isnull().sum()"
   ]
  },
  {
   "cell_type": "code",
   "execution_count": 8,
   "metadata": {},
   "outputs": [
    {
     "data": {
      "text/plain": [
       "Pclass      0\n",
       "Name        0\n",
       "Sex         0\n",
       "Age         0\n",
       "SibSp       0\n",
       "Parch       0\n",
       "Fare        0\n",
       "Embarked    0\n",
       "dtype: int64"
      ]
     },
     "execution_count": 8,
     "metadata": {},
     "output_type": "execute_result"
    }
   ],
   "source": [
    "df_test.isnull().sum()"
   ]
  },
  {
   "cell_type": "code",
   "execution_count": 9,
   "metadata": {},
   "outputs": [],
   "source": [
    "# Create New Features\n",
    "for data in data_cleaner:\n",
    "    data['FamilySize'] = data['SibSp'] + data['Parch'] + 1\n",
    "    data['IsAlong'] = 1\n",
    "    data['IsAlong'].loc[data['FamilySize'] > 1] = 0\n",
    "    \n",
    "    data['Title'] = data['Name'].str.extract(r' (\\w+)\\.')\n",
    "    \n",
    "    data['FareBin'] = pd.qcut(data['Fare'], 4)\n",
    "    data['AgeBin'] = pd.cut(data['Age'].astype(int), 5)"
   ]
  },
  {
   "cell_type": "code",
   "execution_count": 10,
   "metadata": {},
   "outputs": [
    {
     "data": {
      "text/plain": [
       "[Mr          517\n",
       " Miss        182\n",
       " Mrs         125\n",
       " Master       40\n",
       " Dr            7\n",
       " Rev           6\n",
       " Col           2\n",
       " Major         2\n",
       " Mlle          2\n",
       " Don           1\n",
       " Capt          1\n",
       " Mme           1\n",
       " Lady          1\n",
       " Jonkheer      1\n",
       " Sir           1\n",
       " Countess      1\n",
       " Ms            1\n",
       " Name: Title, dtype: int64, Mr        240\n",
       " Miss       78\n",
       " Mrs        72\n",
       " Master     21\n",
       " Col         2\n",
       " Rev         2\n",
       " Dona        1\n",
       " Dr          1\n",
       " Ms          1\n",
       " Name: Title, dtype: int64]"
      ]
     },
     "execution_count": 10,
     "metadata": {},
     "output_type": "execute_result"
    }
   ],
   "source": [
    "[df_train.Title.value_counts(), df_test.Title.value_counts()]"
   ]
  },
  {
   "cell_type": "code",
   "execution_count": 11,
   "metadata": {},
   "outputs": [
    {
     "data": {
      "text/plain": [
       "[Mr        517\n",
       " Miss      182\n",
       " Mrs       125\n",
       " Master     40\n",
       " Other      27\n",
       " Name: Title, dtype: int64, Mr        240\n",
       " Miss       78\n",
       " Mrs        72\n",
       " Master     21\n",
       " Other       7\n",
       " Name: Title, dtype: int64]"
      ]
     },
     "execution_count": 11,
     "metadata": {},
     "output_type": "execute_result"
    }
   ],
   "source": [
    "# Cleanup rare title names\n",
    "for data in data_cleaner:\n",
    "    title_names = (data['Title'].value_counts() < 10)\n",
    "    data['Title'] = data['Title'].apply(lambda x: 'Other' if title_names.loc[x] == True else x)\n",
    "    \n",
    "[df_train.Title.value_counts(), df_test.Title.value_counts()]"
   ]
  },
  {
   "cell_type": "code",
   "execution_count": 12,
   "metadata": {},
   "outputs": [
    {
     "name": "stdout",
     "output_type": "stream",
     "text": [
      "<class 'pandas.core.frame.DataFrame'>\n",
      "RangeIndex: 891 entries, 0 to 890\n",
      "Data columns (total 14 columns):\n",
      "Survived      891 non-null int64\n",
      "Pclass        891 non-null int64\n",
      "Name          891 non-null object\n",
      "Sex           891 non-null object\n",
      "Age           891 non-null float64\n",
      "SibSp         891 non-null int64\n",
      "Parch         891 non-null int64\n",
      "Fare          891 non-null float64\n",
      "Embarked      891 non-null object\n",
      "FamilySize    891 non-null int64\n",
      "IsAlong       891 non-null int64\n",
      "Title         891 non-null object\n",
      "FareBin       891 non-null category\n",
      "AgeBin        891 non-null category\n",
      "dtypes: category(2), float64(2), int64(6), object(4)\n",
      "memory usage: 85.5+ KB\n",
      "<class 'pandas.core.frame.DataFrame'>\n",
      "RangeIndex: 418 entries, 0 to 417\n",
      "Data columns (total 13 columns):\n",
      "Pclass        418 non-null int64\n",
      "Name          418 non-null object\n",
      "Sex           418 non-null object\n",
      "Age           418 non-null float64\n",
      "SibSp         418 non-null int64\n",
      "Parch         418 non-null int64\n",
      "Fare          418 non-null float64\n",
      "Embarked      418 non-null object\n",
      "FamilySize    418 non-null int64\n",
      "IsAlong       418 non-null int64\n",
      "Title         418 non-null object\n",
      "FareBin       418 non-null category\n",
      "AgeBin        418 non-null category\n",
      "dtypes: category(2), float64(2), int64(5), object(4)\n",
      "memory usage: 37.0+ KB\n"
     ]
    },
    {
     "data": {
      "text/plain": [
       "[None, None]"
      ]
     },
     "execution_count": 12,
     "metadata": {},
     "output_type": "execute_result"
    }
   ],
   "source": [
    "[df_train.info(), df_test.info()]"
   ]
  },
  {
   "cell_type": "code",
   "execution_count": 13,
   "metadata": {},
   "outputs": [],
   "source": [
    "# Convert Format\n",
    "from sklearn.preprocessing import LabelEncoder\n",
    "\n",
    "le = LabelEncoder()\n",
    "for data in data_cleaner:\n",
    "    data['Sex_Code'] = le.fit_transform(data['Sex'])\n",
    "    data['Embarked_Code'] = le.fit_transform(data['Embarked'])\n",
    "    data['Title_Code'] = le.fit_transform(data['Title'])\n",
    "    data['AgeBin_Code'] = le.fit_transform(data['AgeBin'])\n",
    "    data['FareBin_Code'] = le.fit_transform(data['FareBin'])"
   ]
  },
  {
   "cell_type": "code",
   "execution_count": 14,
   "metadata": {},
   "outputs": [
    {
     "data": {
      "text/html": [
       "<div>\n",
       "<style scoped>\n",
       "    .dataframe tbody tr th:only-of-type {\n",
       "        vertical-align: middle;\n",
       "    }\n",
       "\n",
       "    .dataframe tbody tr th {\n",
       "        vertical-align: top;\n",
       "    }\n",
       "\n",
       "    .dataframe thead th {\n",
       "        text-align: right;\n",
       "    }\n",
       "</style>\n",
       "<table border=\"1\" class=\"dataframe\">\n",
       "  <thead>\n",
       "    <tr style=\"text-align: right;\">\n",
       "      <th></th>\n",
       "      <th>MLA_Name</th>\n",
       "      <th>MLA_Parameters</th>\n",
       "      <th>Train_Accuracy</th>\n",
       "      <th>Test_Accuracy</th>\n",
       "      <th>Time</th>\n",
       "    </tr>\n",
       "  </thead>\n",
       "  <tbody>\n",
       "    <tr>\n",
       "      <th>11</th>\n",
       "      <td>SVC</td>\n",
       "      <td>{'C': 1.0, 'cache_size': 200, 'class_weight': ...</td>\n",
       "      <td>0.838015</td>\n",
       "      <td>0.827239</td>\n",
       "      <td>0.0113409</td>\n",
       "    </tr>\n",
       "    <tr>\n",
       "      <th>12</th>\n",
       "      <td>NuSVC</td>\n",
       "      <td>{'cache_size': 200, 'class_weight': None, 'coe...</td>\n",
       "      <td>0.837079</td>\n",
       "      <td>0.827239</td>\n",
       "      <td>0.0355062</td>\n",
       "    </tr>\n",
       "    <tr>\n",
       "      <th>4</th>\n",
       "      <td>RandomForestClassifier</td>\n",
       "      <td>{'bootstrap': True, 'class_weight': None, 'cri...</td>\n",
       "      <td>0.890262</td>\n",
       "      <td>0.822388</td>\n",
       "      <td>0.00907359</td>\n",
       "    </tr>\n",
       "    <tr>\n",
       "      <th>3</th>\n",
       "      <td>GradientBoostingClassifier</td>\n",
       "      <td>{'criterion': 'friedman_mse', 'init': None, 'l...</td>\n",
       "      <td>0.867041</td>\n",
       "      <td>0.821642</td>\n",
       "      <td>0.0853429</td>\n",
       "    </tr>\n",
       "    <tr>\n",
       "      <th>14</th>\n",
       "      <td>DecisionTreeClassifier</td>\n",
       "      <td>{'class_weight': None, 'criterion': 'gini', 'm...</td>\n",
       "      <td>0.895131</td>\n",
       "      <td>0.821269</td>\n",
       "      <td>0.00220015</td>\n",
       "    </tr>\n",
       "    <tr>\n",
       "      <th>1</th>\n",
       "      <td>BaggingClassifier</td>\n",
       "      <td>{'base_estimator': None, 'bootstrap': True, 'b...</td>\n",
       "      <td>0.890824</td>\n",
       "      <td>0.818657</td>\n",
       "      <td>0.0102671</td>\n",
       "    </tr>\n",
       "    <tr>\n",
       "      <th>2</th>\n",
       "      <td>ExtraTreesClassifier</td>\n",
       "      <td>{'bootstrap': False, 'class_weight': None, 'cr...</td>\n",
       "      <td>0.895131</td>\n",
       "      <td>0.818284</td>\n",
       "      <td>0.0110761</td>\n",
       "    </tr>\n",
       "    <tr>\n",
       "      <th>10</th>\n",
       "      <td>KNeighborsClassifier</td>\n",
       "      <td>{'algorithm': 'auto', 'leaf_size': 30, 'metric...</td>\n",
       "      <td>0.848876</td>\n",
       "      <td>0.81306</td>\n",
       "      <td>0.00468752</td>\n",
       "    </tr>\n",
       "    <tr>\n",
       "      <th>15</th>\n",
       "      <td>ExtraTreeClassifier</td>\n",
       "      <td>{'class_weight': None, 'criterion': 'gini', 'm...</td>\n",
       "      <td>0.895131</td>\n",
       "      <td>0.810821</td>\n",
       "      <td>0.00219917</td>\n",
       "    </tr>\n",
       "    <tr>\n",
       "      <th>0</th>\n",
       "      <td>AdaBoostClassifier</td>\n",
       "      <td>{'algorithm': 'SAMME.R', 'base_estimator': Non...</td>\n",
       "      <td>0.820599</td>\n",
       "      <td>0.810075</td>\n",
       "      <td>0.0496204</td>\n",
       "    </tr>\n",
       "    <tr>\n",
       "      <th>5</th>\n",
       "      <td>GaussianProcessClassifier</td>\n",
       "      <td>{'copy_X_train': True, 'kernel': None, 'max_it...</td>\n",
       "      <td>0.873596</td>\n",
       "      <td>0.806343</td>\n",
       "      <td>0.26033</td>\n",
       "    </tr>\n",
       "    <tr>\n",
       "      <th>13</th>\n",
       "      <td>LinearSVC</td>\n",
       "      <td>{'C': 1.0, 'class_weight': None, 'dual': True,...</td>\n",
       "      <td>0.801873</td>\n",
       "      <td>0.797015</td>\n",
       "      <td>0.0363717</td>\n",
       "    </tr>\n",
       "    <tr>\n",
       "      <th>7</th>\n",
       "      <td>RidgeClassifierCV</td>\n",
       "      <td>{'alphas': array([ 0.1,  1. , 10. ]), 'class_w...</td>\n",
       "      <td>0.799813</td>\n",
       "      <td>0.795522</td>\n",
       "      <td>0.0545998</td>\n",
       "    </tr>\n",
       "    <tr>\n",
       "      <th>6</th>\n",
       "      <td>LogisticRegressionCV</td>\n",
       "      <td>{'Cs': 10, 'class_weight': None, 'cv': 'warn',...</td>\n",
       "      <td>0.796629</td>\n",
       "      <td>0.795149</td>\n",
       "      <td>0.1245</td>\n",
       "    </tr>\n",
       "    <tr>\n",
       "      <th>9</th>\n",
       "      <td>GaussianNB</td>\n",
       "      <td>{'priors': None, 'var_smoothing': 1e-09}</td>\n",
       "      <td>0.790262</td>\n",
       "      <td>0.775746</td>\n",
       "      <td>0.00179522</td>\n",
       "    </tr>\n",
       "    <tr>\n",
       "      <th>8</th>\n",
       "      <td>BernoulliNB</td>\n",
       "      <td>{'alpha': 1.0, 'binarize': 0.0, 'class_prior':...</td>\n",
       "      <td>0.78427</td>\n",
       "      <td>0.770149</td>\n",
       "      <td>0.00478716</td>\n",
       "    </tr>\n",
       "  </tbody>\n",
       "</table>\n",
       "</div>"
      ],
      "text/plain": [
       "                      MLA_Name  \\\n",
       "11                         SVC   \n",
       "12                       NuSVC   \n",
       "4       RandomForestClassifier   \n",
       "3   GradientBoostingClassifier   \n",
       "14      DecisionTreeClassifier   \n",
       "1            BaggingClassifier   \n",
       "2         ExtraTreesClassifier   \n",
       "10        KNeighborsClassifier   \n",
       "15         ExtraTreeClassifier   \n",
       "0           AdaBoostClassifier   \n",
       "5    GaussianProcessClassifier   \n",
       "13                   LinearSVC   \n",
       "7            RidgeClassifierCV   \n",
       "6         LogisticRegressionCV   \n",
       "9                   GaussianNB   \n",
       "8                  BernoulliNB   \n",
       "\n",
       "                                       MLA_Parameters Train_Accuracy  \\\n",
       "11  {'C': 1.0, 'cache_size': 200, 'class_weight': ...       0.838015   \n",
       "12  {'cache_size': 200, 'class_weight': None, 'coe...       0.837079   \n",
       "4   {'bootstrap': True, 'class_weight': None, 'cri...       0.890262   \n",
       "3   {'criterion': 'friedman_mse', 'init': None, 'l...       0.867041   \n",
       "14  {'class_weight': None, 'criterion': 'gini', 'm...       0.895131   \n",
       "1   {'base_estimator': None, 'bootstrap': True, 'b...       0.890824   \n",
       "2   {'bootstrap': False, 'class_weight': None, 'cr...       0.895131   \n",
       "10  {'algorithm': 'auto', 'leaf_size': 30, 'metric...       0.848876   \n",
       "15  {'class_weight': None, 'criterion': 'gini', 'm...       0.895131   \n",
       "0   {'algorithm': 'SAMME.R', 'base_estimator': Non...       0.820599   \n",
       "5   {'copy_X_train': True, 'kernel': None, 'max_it...       0.873596   \n",
       "13  {'C': 1.0, 'class_weight': None, 'dual': True,...       0.801873   \n",
       "7   {'alphas': array([ 0.1,  1. , 10. ]), 'class_w...       0.799813   \n",
       "6   {'Cs': 10, 'class_weight': None, 'cv': 'warn',...       0.796629   \n",
       "9            {'priors': None, 'var_smoothing': 1e-09}       0.790262   \n",
       "8   {'alpha': 1.0, 'binarize': 0.0, 'class_prior':...        0.78427   \n",
       "\n",
       "   Test_Accuracy        Time  \n",
       "11      0.827239   0.0113409  \n",
       "12      0.827239   0.0355062  \n",
       "4       0.822388  0.00907359  \n",
       "3       0.821642   0.0853429  \n",
       "14      0.821269  0.00220015  \n",
       "1       0.818657   0.0102671  \n",
       "2       0.818284   0.0110761  \n",
       "10       0.81306  0.00468752  \n",
       "15      0.810821  0.00219917  \n",
       "0       0.810075   0.0496204  \n",
       "5       0.806343     0.26033  \n",
       "13      0.797015   0.0363717  \n",
       "7       0.795522   0.0545998  \n",
       "6       0.795149      0.1245  \n",
       "9       0.775746  0.00179522  \n",
       "8       0.770149  0.00478716  "
      ]
     },
     "execution_count": 14,
     "metadata": {},
     "output_type": "execute_result"
    }
   ],
   "source": [
    "# Model Training\n",
    "from sklearn import model_selection\n",
    "from sklearn import metrics\n",
    "from sklearn import svm, tree, linear_model, neighbors, naive_bayes, ensemble, gaussian_process\n",
    "\n",
    "x_label = ['Sex_Code','Pclass', 'Embarked_Code', 'Title_Code', 'FamilySize', 'AgeBin_Code', 'FareBin_Code', 'IsAlong']\n",
    "y_label = ['Survived']\n",
    "\n",
    "X_train = df_train[x_label]\n",
    "Y_train = df_train[y_label]\n",
    "\n",
    "# Train test split\n",
    "cv_split = model_selection.ShuffleSplit(n_splits=10, test_size=0.3, train_size=0.6, random_state=0)\n",
    "\n",
    "# Machine Learning Algorithms\n",
    "MLA = [\n",
    "    # Ensemble Models\n",
    "    ensemble.AdaBoostClassifier(),\n",
    "    ensemble.BaggingClassifier(),\n",
    "    ensemble.ExtraTreesClassifier(),\n",
    "    ensemble.GradientBoostingClassifier(),\n",
    "    ensemble.RandomForestClassifier(),\n",
    "    \n",
    "    # Gaussian Processes\n",
    "    gaussian_process.GaussianProcessClassifier(),\n",
    "    \n",
    "    # Linear Models\n",
    "    linear_model.LogisticRegressionCV(),\n",
    "    linear_model.RidgeClassifierCV(),\n",
    "    \n",
    "    # Navies Bayes\n",
    "    naive_bayes.BernoulliNB(),\n",
    "    naive_bayes.GaussianNB(),\n",
    "    \n",
    "    # Nearest Neighbor\n",
    "    neighbors.KNeighborsClassifier(),\n",
    "    \n",
    "    # SVM\n",
    "    svm.SVC(),\n",
    "    svm.NuSVC(probability=True),\n",
    "    svm.LinearSVC(),\n",
    "    \n",
    "    # Trees    \n",
    "    tree.DecisionTreeClassifier(),\n",
    "    tree.ExtraTreeClassifier(),\n",
    "]\n",
    "\n",
    "# Create a table to record MLA\n",
    "columns = ['MLA_Name', 'MLA_Parameters','Train_Accuracy', 'Test_Accuracy', 'Time']\n",
    "MLA_compare = pd.DataFrame(columns=columns)\n",
    "\n",
    "i = 0\n",
    "for alg in MLA:\n",
    "    cv_res = model_selection.cross_validate(alg, X_train, Y_train, cv=cv_split)\n",
    "        \n",
    "    MLA_compare.loc[i, 'MLA_Name'] = alg.__class__.__name__\n",
    "    MLA_compare.loc[i, 'MLA_Parameters'] = str(alg.get_params())\n",
    "    MLA_compare.loc[i, 'Train_Accuracy'] = cv_res['train_score'].mean()\n",
    "    MLA_compare.loc[i, 'Test_Accuracy'] = cv_res['test_score'].mean()\n",
    "    MLA_compare.loc[i, 'Time'] = cv_res['fit_time'].mean()\n",
    "    \n",
    "    i += 1\n",
    "\n",
    "MLA_compare.sort_values(by=['Test_Accuracy'], ascending=False, inplace=True)\n",
    "MLA_compare"
   ]
  },
  {
   "cell_type": "code",
   "execution_count": 18,
   "metadata": {},
   "outputs": [
    {
     "data": {
      "text/plain": [
       "Text(0, 0.5, 'Algorithm')"
      ]
     },
     "execution_count": 18,
     "metadata": {},
     "output_type": "execute_result"
    },
    {
     "data": {
      "image/png": "[encoded data removed]",
      "text/plain": [
       "<Figure size 432x288 with 1 Axes>"
      ]
     },
     "metadata": {
      "needs_background": "light"
     },
     "output_type": "display_data"
    }
   ],
   "source": [
    "sns.barplot(x='Test_Accuracy', y='MLA_Name', data=MLA_compare, color='m')\n",
    "plt.title('Machine Learning Algorithm Accuracy Score')\n",
    "plt.xlabel('Accuracy Score (%)')\n",
    "plt.ylabel('Algorithm')"
   ]
  },
  {
   "cell_type": "code",
   "execution_count": 19,
   "metadata": {},
   "outputs": [
    {
     "data": {
      "text/plain": [
       "{'C': 0.5, 'gamma': 0.1, 'kernel': 'rbf'}"
      ]
     },
     "execution_count": 19,
     "metadata": {},
     "output_type": "execute_result"
    }
   ],
   "source": [
    "# Model Tuning\n",
    "# SVM\n",
    "param = [{\n",
    "    'C': [0.1, 0.5, 1, 2, 3],\n",
    "    'kernel': ['linear', 'rbf', 'poly'],\n",
    "    'gamma': [0.1, 0.25, 0.5, 0.75, 1]\n",
    "}]\n",
    "\n",
    "MT = model_selection.GridSearchCV(estimator=svm.SVC(), param_grid = param, cv=cv_split)\n",
    "MT.fit(X_train, Y_train)\n",
    "MT.best_params_"
   ]
  },
  {
   "cell_type": "code",
   "execution_count": 48,
   "metadata": {},
   "outputs": [
    {
     "data": {
      "text/plain": [
       "[0.8348314606741573, 0.8283582089552238]"
      ]
     },
     "execution_count": 48,
     "metadata": {},
     "output_type": "execute_result"
    }
   ],
   "source": [
    "SVM = svm.SVC(C=0.5, gamma=0.1, kernel='rbf')\n",
    "cv_res = model_selection.cross_validate(SVM, X_train, Y_train, cv=cv_split)\n",
    "[cv_res['train_score'].mean(), cv_res['test_score'].mean()]"
   ]
  },
  {
   "cell_type": "code",
   "execution_count": 23,
   "metadata": {},
   "outputs": [
    {
     "data": {
      "text/plain": [
       "{'max_depth': None,\n",
       " 'max_features': 'sqrt',\n",
       " 'min_samples_leaf': 1,\n",
       " 'min_samples_split': 5,\n",
       " 'n_estimators': 200}"
      ]
     },
     "execution_count": 23,
     "metadata": {},
     "output_type": "execute_result"
    }
   ],
   "source": [
    "# Random Forests\n",
    "param = [{\n",
    "    'n_estimators': [10, 50, 100, 200, 300],\n",
    "    'max_depth': [2, 4, 6, 8, 10, None],\n",
    "    'min_samples_split': [2, 5, 10],\n",
    "    'min_samples_leaf': [1, 2, 4],\n",
    "    'max_features': ['auto', 'sqrt']\n",
    "}]\n",
    "\n",
    "MTRF = model_selection.GridSearchCV(estimator=ensemble.RandomForestClassifier(), param_grid=param, cv=cv_split)\n",
    "MTRF.fit(X_train, Y_train)\n",
    "MTRF.best_params_"
   ]
  },
  {
   "cell_type": "code",
   "execution_count": 30,
   "metadata": {},
   "outputs": [
    {
     "data": {
      "text/plain": [
       "[0.8833333333333334, 0.8350746268656716]"
      ]
     },
     "execution_count": 30,
     "metadata": {},
     "output_type": "execute_result"
    }
   ],
   "source": [
    "RF = ensemble.RandomForestClassifier(max_depth=None,\n",
    "                                     max_features='sqrt',\n",
    "                                     min_samples_leaf=1,\n",
    "                                     min_samples_split=5,\n",
    "                                     n_estimators=200)\n",
    "cv_res = model_selection.cross_validate(RF, X_train, Y_train, cv=cv_split)\n",
    "[cv_res['train_score'].mean(), cv_res['test_score'].mean()]"
   ]
  },
  {
   "cell_type": "code",
   "execution_count": 33,
   "metadata": {},
   "outputs": [
    {
     "data": {
      "text/plain": [
       "{'learning_rate': 0.025, 'max_depth': 2, 'n_estimators': 200}"
      ]
     },
     "execution_count": 33,
     "metadata": {},
     "output_type": "execute_result"
    }
   ],
   "source": [
    "# Gradient Boosting\n",
    "param = [{\n",
    "    'learning_rate': [0.01, 0.025, 0.05, 0.1, 0.5],\n",
    "    'n_estimators': [100, 200, 300],\n",
    "    'max_depth': [2, 4, 6, None]\n",
    "}]\n",
    "\n",
    "MTGBM = model_selection.GridSearchCV(estimator=ensemble.GradientBoostingClassifier(), param_grid=param, cv=cv_split)\n",
    "MTGBM.fit(X_train, Y_train)\n",
    "MTGBM.best_params_"
   ]
  },
  {
   "cell_type": "code",
   "execution_count": 35,
   "metadata": {},
   "outputs": [
    {
     "data": {
      "text/plain": [
       "[0.8391385767790261, 0.8298507462686567]"
      ]
     },
     "execution_count": 35,
     "metadata": {},
     "output_type": "execute_result"
    }
   ],
   "source": [
    "GBM = ensemble.GradientBoostingClassifier(learning_rate=0.025,\n",
    "                                          max_depth=2,\n",
    "                                          n_estimators=200)\n",
    "cv_res = model_selection.cross_validate(GBM, X_train, Y_train, cv=cv_split)\n",
    "[cv_res['train_score'].mean(), cv_res['test_score'].mean()]"
   ]
  },
  {
   "cell_type": "code",
   "execution_count": 36,
   "metadata": {},
   "outputs": [
    {
     "data": {
      "text/plain": [
       "{'max_depth': None,\n",
       " 'max_features': 'auto',\n",
       " 'min_samples_leaf': 1,\n",
       " 'min_samples_split': 5}"
      ]
     },
     "execution_count": 36,
     "metadata": {},
     "output_type": "execute_result"
    }
   ],
   "source": [
    "# Decision Tree\n",
    "param = [{\n",
    "    'max_depth': [2, 4, 6, 8, 10, None],\n",
    "    'min_samples_split': [2, 5, 10],\n",
    "    'min_samples_leaf': [1, 2, 4],\n",
    "    'max_features': ['auto', 'sqrt']    \n",
    "}]\n",
    "\n",
    "MTDT = model_selection.GridSearchCV(estimator=tree.DecisionTreeClassifier(), param_grid=param, cv=cv_split)\n",
    "MTDT.fit(X_train, Y_train)\n",
    "MTDT.best_params_"
   ]
  },
  {
   "cell_type": "code",
   "execution_count": 39,
   "metadata": {},
   "outputs": [
    {
     "data": {
      "text/plain": [
       "[0.8737827715355806, 0.8115671641791045]"
      ]
     },
     "execution_count": 39,
     "metadata": {},
     "output_type": "execute_result"
    }
   ],
   "source": [
    "DT = tree.DecisionTreeClassifier(max_depth=None,max_features='auto',min_samples_leaf=1,min_samples_split=5)\n",
    "cv_res = model_selection.cross_validate(DT, X_train, Y_train, cv=cv_split)\n",
    "[cv_res['train_score'].mean(), cv_res['test_score'].mean()]"
   ]
  },
  {
   "cell_type": "code",
   "execution_count": 41,
   "metadata": {},
   "outputs": [
    {
     "data": {
      "text/plain": [
       "{'max_samples': 0.5, 'n_estimators': 100}"
      ]
     },
     "execution_count": 41,
     "metadata": {},
     "output_type": "execute_result"
    }
   ],
   "source": [
    "# Bagging\n",
    "param = [{\n",
    "    'n_estimators': [100, 200, 300],\n",
    "    'max_samples': [.1, .25, .5, .75, 1.0]\n",
    "}]\n",
    "\n",
    "MTB = model_selection.GridSearchCV(estimator=ensemble.BaggingClassifier(), param_grid=param, cv=cv_split)\n",
    "MTB.fit(X_train, Y_train)\n",
    "MTB.best_params_"
   ]
  },
  {
   "cell_type": "code",
   "execution_count": 44,
   "metadata": {},
   "outputs": [
    {
     "data": {
      "text/plain": [
       "[0.8840823970037454, 0.8279850746268658]"
      ]
     },
     "execution_count": 44,
     "metadata": {},
     "output_type": "execute_result"
    }
   ],
   "source": [
    "BAG = ensemble.BaggingClassifier(max_samples=0.5, n_estimators=100)\n",
    "cv_res = model_selection.cross_validate(BAG, X_train, Y_train, cv=cv_split)\n",
    "[cv_res['train_score'].mean(), cv_res['test_score'].mean()]"
   ]
  },
  {
   "cell_type": "code",
   "execution_count": 42,
   "metadata": {},
   "outputs": [
    {
     "data": {
      "text/plain": [
       "{'algorithm': 'auto', 'n_neighbors': 7, 'weights': 'distance'}"
      ]
     },
     "execution_count": 42,
     "metadata": {},
     "output_type": "execute_result"
    }
   ],
   "source": [
    "# KNN\n",
    "param = [{\n",
    "    'n_neighbors': [1,2,3,4,5,6,7], \n",
    "    'weights': ['uniform', 'distance'], \n",
    "    'algorithm': ['auto', 'ball_tree', 'kd_tree', 'brute']\n",
    "}]\n",
    "\n",
    "MTB = model_selection.GridSearchCV(estimator=neighbors.KNeighborsClassifier(), param_grid=param, cv=cv_split)\n",
    "MTB.fit(X_train, Y_train)\n",
    "MTB.best_params_"
   ]
  },
  {
   "cell_type": "code",
   "execution_count": 46,
   "metadata": {},
   "outputs": [
    {
     "data": {
      "text/plain": [
       "[0.8945692883895131, 0.8201492537313433]"
      ]
     },
     "execution_count": 46,
     "metadata": {},
     "output_type": "execute_result"
    }
   ],
   "source": [
    "KNN = neighbors.KNeighborsClassifier(algorithm='auto', n_neighbors=7, weights='distance')\n",
    "cv_res = model_selection.cross_validate(KNN, X_train, Y_train, cv=cv_split)\n",
    "[cv_res['train_score'].mean(), cv_res['test_score'].mean()]"
   ]
  },
  {
   "cell_type": "code",
   "execution_count": 43,
   "metadata": {},
   "outputs": [
    {
     "data": {
      "text/plain": [
       "{'algorithm': 'SAMME.R', 'learning_rate': 0.05, 'n_estimators': 200}"
      ]
     },
     "execution_count": 43,
     "metadata": {},
     "output_type": "execute_result"
    }
   ],
   "source": [
    "# AdaBoost\n",
    "param = [{\n",
    "    'n_estimators': [100, 200, 300],\n",
    "    'learning_rate': [0.01, 0.025, 0.05, 0.1, 0.5],\n",
    "    'algorithm': ['SAMME', 'SAMME.R']\n",
    "}]\n",
    "\n",
    "MTB = model_selection.GridSearchCV(estimator=ensemble.AdaBoostClassifier(), param_grid=param, cv=cv_split)\n",
    "MTB.fit(X_train, Y_train)\n",
    "MTB.best_params_"
   ]
  },
  {
   "cell_type": "code",
   "execution_count": 47,
   "metadata": {},
   "outputs": [
    {
     "data": {
      "text/plain": [
       "[0.8323970037453184, 0.8298507462686567]"
      ]
     },
     "execution_count": 47,
     "metadata": {},
     "output_type": "execute_result"
    }
   ],
   "source": [
    "ADA = ensemble.AdaBoostClassifier(algorithm='SAMME.R', learning_rate=0.05, n_estimators=200)\n",
    "cv_res = model_selection.cross_validate(ADA, X_train, Y_train, cv=cv_split)\n",
    "[cv_res['train_score'].mean(), cv_res['test_score'].mean()]"
   ]
  },
  {
   "cell_type": "code",
   "execution_count": 50,
   "metadata": {},
   "outputs": [
    {
     "data": {
      "text/plain": [
       "[0.8773408239700375, 0.8384328358208955]"
      ]
     },
     "execution_count": 50,
     "metadata": {},
     "output_type": "execute_result"
    }
   ],
   "source": [
    "# Voting\n",
    "vote_set = [\n",
    "    ('svm', SVM),\n",
    "    ('rf', RF),\n",
    "    ('gbm', GBM),\n",
    "    ('dt', DT),\n",
    "    ('bag', BAG),\n",
    "    ('knn', KNN),\n",
    "    ('ada', ADA)\n",
    "]\n",
    "\n",
    "hard = ensemble.VotingClassifier(estimators=vote_set, voting='hard')\n",
    "cv_res = model_selection.cross_validate(hard, X_train, Y_train, cv=cv_split)\n",
    "[cv_res['train_score'].mean(), cv_res['test_score'].mean()]"
   ]
  },
  {
   "cell_type": "code",
   "execution_count": 51,
   "metadata": {},
   "outputs": [
    {
     "data": {
      "text/plain": [
       "[0.8794007490636705, 0.8380597014925373]"
      ]
     },
     "execution_count": 51,
     "metadata": {},
     "output_type": "execute_result"
    }
   ],
   "source": [
    "soft = ensemble.VotingClassifier(estimators=vote_set, voting='soft')\n",
    "cv_res = model_selection.cross_validate(hard, X_train, Y_train, cv=cv_split)\n",
    "[cv_res['train_score'].mean(), cv_res['test_score'].mean()]"
   ]
  },
  {
   "cell_type": "code",
   "execution_count": 55,
   "metadata": {},
   "outputs": [],
   "source": [
    "# Predict with hard voting\n",
    "hard.fit(X_train, Y_train)\n",
    "pred = hard.predict(df_test[x_label])\n",
    "result = pd.read_csv('gender_submission.csv')\n",
    "result = pd.DataFrame({'PassengerId': result.PassengerId, 'Survived':pred})\n",
    "result.to_csv('submission.csv',index=False)"
   ]
  }
 ],
 "metadata": {
  "kernelspec": {
   "display_name": "Python 3",
   "language": "python",
   "name": "python3"
  },
  "language_info": {
   "codemirror_mode": {
    "name": "ipython",
    "version": 3
   },
   "file_extension": ".py",
   "mimetype": "text/x-python",
   "name": "python",
   "nbconvert_exporter": "python",
   "pygments_lexer": "ipython3",
   "version": "3.7.1"
  }
 },
 "nbformat": 4,
 "nbformat_minor": 2
}
